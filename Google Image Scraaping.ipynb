{
 "cells": [
  {
   "cell_type": "code",
   "execution_count": 31,
   "id": "478ac271",
   "metadata": {},
   "outputs": [],
   "source": [
    "import requests\n",
    "from bs4 import BeautifulSoup\n",
    "from urllib.request import urlopen as uReq\n",
    "import logging\n",
    "#import pymongo\n",
    "import os"
   ]
  },
  {
   "cell_type": "code",
   "execution_count": 32,
   "id": "f1816c8a",
   "metadata": {},
   "outputs": [],
   "source": [
    "save_dir = \"images/\"\n",
    "if not os.path.exists(save_dir):\n",
    "    os.makedirs(save_dir)"
   ]
  },
  {
   "cell_type": "code",
   "execution_count": 33,
   "id": "1604f5f2",
   "metadata": {},
   "outputs": [],
   "source": [
    "headers = {\"User-Agent\": \"Mozilla/5.0 (Windows NT 10.0; Win64; x64) AppleWebKit/537.36 (KHTML, like Gecko) Chrome/58.0.3029.110 Safari/537.36\"}"
   ]
  },
  {
   "cell_type": "code",
   "execution_count": 34,
   "id": "9982be24",
   "metadata": {},
   "outputs": [],
   "source": [
    "query = \"swati dhote\"\n",
    "response = requests.get(f\"https://www.google.com/search?q={query}&sxsrf=AJOqlzUuff1RXi2mm8I_OqOwT9VjfIDL7w:1676996143273&source=lnms&tbm=isch&sa=X&ved=2ahUKEwiq-qK7gaf9AhXUgVYBHYReAfYQ_AUoA3oECAEQBQ&biw=1920&bih=937&dpr=1#imgrc=1th7VhSesfMJ4M\")\n"
   ]
  },
  {
   "cell_type": "code",
   "execution_count": 35,
   "id": "cec605fc",
   "metadata": {},
   "outputs": [],
   "source": [
    "soup = BeautifulSoup(response.content ,'html.parser')"
   ]
  },
  {
   "cell_type": "code",
   "execution_count": 36,
   "id": "6d48bf22",
   "metadata": {},
   "outputs": [],
   "source": [
    "images_tags = soup.find_all(\"img\")"
   ]
  },
  {
   "cell_type": "code",
   "execution_count": 37,
   "id": "c3e4b9f5",
   "metadata": {},
   "outputs": [
    {
     "data": {
      "text/plain": [
       "20"
      ]
     },
     "execution_count": 37,
     "metadata": {},
     "output_type": "execute_result"
    }
   ],
   "source": [
    "len(images_tags)"
   ]
  },
  {
   "cell_type": "code",
   "execution_count": 38,
   "id": "52922457",
   "metadata": {},
   "outputs": [
    {
     "data": {
      "text/plain": [
       "[<img alt=\"Google\" class=\"kgJEQe\" src=\"/images/branding/searchlogo/1x/googlelogo_desk_heirloom_color_150x55dp.gif\"/>,\n",
       " <img alt=\"\" class=\"DS1iW\" src=\"https://encrypted-tbn0.gstatic.com/images?q=tbn:ANd9GcTqFGdLTW8IQr07BzDKKR7O_c9NC_Q82zNZTdbAtG1ZiVZGHBpqzH5nN5x5TQ&amp;s\"/>,\n",
       " <img alt=\"\" class=\"DS1iW\" src=\"https://encrypted-tbn0.gstatic.com/images?q=tbn:ANd9GcSr7stcB29MC_nR_3pn_yo7k-KH0Wq-DvEnAi5l9_7YEXdD8Sv9RXD_CFmgrpk&amp;s\"/>,\n",
       " <img alt=\"\" class=\"DS1iW\" src=\"https://encrypted-tbn0.gstatic.com/images?q=tbn:ANd9GcQ0MqDWMIlaX8R6WympsXeIrahE39as3xKybPynZRYuvWnN9HmiUhxNepfsd00&amp;s\"/>,\n",
       " <img alt=\"\" class=\"DS1iW\" src=\"https://encrypted-tbn0.gstatic.com/images?q=tbn:ANd9GcSdnHBdZHha4ui6P0Ib09B3BFJ1BB5WV5S4xjnFhuApQlU_2s9_STL4remZ2T4&amp;s\"/>,\n",
       " <img alt=\"\" class=\"DS1iW\" src=\"https://encrypted-tbn0.gstatic.com/images?q=tbn:ANd9GcQ9EFQ3Yxstw8sff-b_FG7ztDnaJj34Hy9nFi5SzDYnO3NK411XxNiX6E0ed4I&amp;s\"/>,\n",
       " <img alt=\"\" class=\"DS1iW\" src=\"https://encrypted-tbn0.gstatic.com/images?q=tbn:ANd9GcQrLXNAYiInYVJDnjqgQQIIrLdfLQUSqYdHaL7Zv8sjeId_SM6_N6n8U263G7I&amp;s\"/>,\n",
       " <img alt=\"\" class=\"DS1iW\" src=\"https://encrypted-tbn0.gstatic.com/images?q=tbn:ANd9GcSzg-xjwg1uBXWWpfGlo4so-WGPZ1_TclvsLJZq66QQrT4OLfyUKSMdmn_zmg&amp;s\"/>,\n",
       " <img alt=\"\" class=\"DS1iW\" src=\"https://encrypted-tbn0.gstatic.com/images?q=tbn:ANd9GcS31xek2Bay9fTFCPr0MhWyP791dJTZz3TAFNpZ7TW12eDdH40kv2dkqDjQjQ&amp;s\"/>,\n",
       " <img alt=\"\" class=\"DS1iW\" src=\"https://encrypted-tbn0.gstatic.com/images?q=tbn:ANd9GcTAvt1_ddWV6EWeKts1-Nrln85YAeuB4CDMjwG_rtu8Ki66R3VdfuvBZeDdEg&amp;s\"/>,\n",
       " <img alt=\"\" class=\"DS1iW\" src=\"https://encrypted-tbn0.gstatic.com/images?q=tbn:ANd9GcRLtGARO9iwGmTCusKT34yyFHnZC1n-dsWvHa0RLSh-egeGVJ5kKrEHXpwQ9A&amp;s\"/>,\n",
       " <img alt=\"\" class=\"DS1iW\" src=\"https://encrypted-tbn0.gstatic.com/images?q=tbn:ANd9GcSOoZg-mNTUBzF1Ajrry0BCuzX7N9YTr_bY6O_SXZL1buX6z4_1wW9avVnBlQ&amp;s\"/>,\n",
       " <img alt=\"\" class=\"DS1iW\" src=\"https://encrypted-tbn0.gstatic.com/images?q=tbn:ANd9GcSd2lUI_CI-2VeIbpGpltnuCtkgaaG5KhUcUeLQcr82DEjU0MvgHOiZtX9INg&amp;s\"/>,\n",
       " <img alt=\"\" class=\"DS1iW\" src=\"https://encrypted-tbn0.gstatic.com/images?q=tbn:ANd9GcSnJVJVaQxvOpenXPEuwL8Iuykh2ts1fu2aF0_YdqSOFTElXz77cRWEeeJ6NNs&amp;s\"/>,\n",
       " <img alt=\"\" class=\"DS1iW\" src=\"https://encrypted-tbn0.gstatic.com/images?q=tbn:ANd9GcQd8mA23uj-AU7HS7dMyaQ2TCwg_9wFxnGXEL3EZFZ_IxkMXEugn0gJ5vmu2g&amp;s\"/>,\n",
       " <img alt=\"\" class=\"DS1iW\" src=\"https://encrypted-tbn0.gstatic.com/images?q=tbn:ANd9GcQvmC0k36rANNCXw50nTFEi2E9OCcx24b5ir_-LUseLfeZCncztPjvpaB01Xg&amp;s\"/>,\n",
       " <img alt=\"\" class=\"DS1iW\" src=\"https://encrypted-tbn0.gstatic.com/images?q=tbn:ANd9GcT0e8V7YoBR19ev9iusvZgThym4Edoj_Dm_VcXU8P5k6pWO5T0BEdM7EEdx8HM&amp;s\"/>,\n",
       " <img alt=\"\" class=\"DS1iW\" src=\"https://encrypted-tbn0.gstatic.com/images?q=tbn:ANd9GcQqGta_7qYqASnYIi827sC1BKJ9YhNxyFRQNwtUsZbfpXBODpI989abt5a6JTA&amp;s\"/>,\n",
       " <img alt=\"\" class=\"DS1iW\" src=\"https://encrypted-tbn0.gstatic.com/images?q=tbn:ANd9GcQi0PuMHOCG8B1j8D__IKkpbLuatDeeUFOildT01rCOhslhF5Ilo47gbnjwDA&amp;s\"/>,\n",
       " <img alt=\"\" class=\"DS1iW\" src=\"https://encrypted-tbn0.gstatic.com/images?q=tbn:ANd9GcQIY-ENmKBnLEPxtDh4wSZPHWaisMhY51x3cyfbUpNzcj1cCv1e-F6ygbPv_g&amp;s\"/>]"
      ]
     },
     "execution_count": 38,
     "metadata": {},
     "output_type": "execute_result"
    }
   ],
   "source": [
    "images_tags"
   ]
  },
  {
   "cell_type": "code",
   "execution_count": 39,
   "id": "ed3254c4",
   "metadata": {},
   "outputs": [],
   "source": [
    "del images_tags[0]"
   ]
  },
  {
   "cell_type": "code",
   "execution_count": 40,
   "id": "0a731b1e",
   "metadata": {},
   "outputs": [],
   "source": [
    "img_data_mongo = []\n",
    "for i in images_tags:\n",
    "    image_url = i['src']\n",
    "    image_data = requests.get(image_url).content\n",
    "    mydict = {\"index\":image_url , \"image\" : image_data}\n",
    "    img_data_mongo.append(mydict)\n",
    "    with open(os.path.join(save_dir,f\"{query}_{images_tags.index(i)}.jpg\"),\"wb\") as f :\n",
    "              f.write(image_data)\n"
   ]
  }
 ],
 "metadata": {
  "kernelspec": {
   "display_name": "Python 3",
   "language": "python",
   "name": "python3"
  },
  "language_info": {
   "codemirror_mode": {
    "name": "ipython",
    "version": 3
   },
   "file_extension": ".py",
   "mimetype": "text/x-python",
   "name": "python",
   "nbconvert_exporter": "python",
   "pygments_lexer": "ipython3",
   "version": "3.12.3"
  }
 },
 "nbformat": 4,
 "nbformat_minor": 5
}
